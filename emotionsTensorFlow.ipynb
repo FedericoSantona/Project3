{
 "cells": [
  {
   "cell_type": "code",
   "execution_count": 2,
   "metadata": {},
   "outputs": [
    {
     "name": "stdout",
     "output_type": "stream",
     "text": [
      "Python VERSION: 3.11.1 (tags/v3.11.1:a7a450f, Dec  6 2022, 19:58:39) [MSC v.1934 64 bit (AMD64)]\n",
      "Found 28709 files belonging to 7 classes.\n",
      "Found 7178 files belonging to 7 classes.\n",
      "WARNING:tensorflow:From c:\\Users\\sanfe\\AppData\\Local\\Programs\\Python\\Python311\\Lib\\site-packages\\keras\\src\\backend.py:873: The name tf.get_default_graph is deprecated. Please use tf.compat.v1.get_default_graph instead.\n",
      "\n",
      "x train shape: (5200, 48, 48, 1)\n",
      "t train shape: (5200, 7)\n",
      "x test shape: (1040, 48, 48, 1)\n",
      "t test shape: (1040, 7)\n"
     ]
    }
   ],
   "source": [
    "import os\n",
    "import zipfile\n",
    "from tensorflow import keras as tfk\n",
    "from CNN import *\n",
    "import matplotlib.pyplot as plt\n",
    "import tensorflow as tf\n",
    "from tensorflow.keras import regularizers\n",
    "from tensorflow.keras import datasets, layers, models\n",
    "from tensorflow.keras.callbacks import ModelCheckpoint\n",
    "from tensorflow.keras.models import load_model\n",
    "\n",
    "\n",
    "# print python version\n",
    "print(\"Python VERSION:\", sys.version)\n",
    "\n",
    "\n",
    "\"\"\"\n",
    "        Description:\n",
    "        ------------\n",
    "            CNN application to the emotions dataset, remeber to change the path \n",
    "            to the dataset in the beginning of the code.\n",
    "\n",
    "        Parameters to tune:\n",
    "        ------------\n",
    "            I  Architecture of the CNN( Number and types of layers)\n",
    "            II  Dimensions and number of the kernels (height and width) used for convolution and pooling\n",
    "            III stride in the convolutional layers and pooling layers, padding or no padding\n",
    "            IV  Numbers of epochs and batches ( 2 types of batches are used, one for the GD(in the fit function) and one for data preprocessing)\n",
    "            V   Learning rate and regularization parameter ( lambda)\n",
    "            VI  Activation functions ( sigmoid, tanh, relu, leaky relu, softmax)\n",
    "            VII  Number of neurons in the fully connected layers\n",
    "        \"\"\"\n",
    "\n",
    "# Path to the zip file and extraction directory\n",
    "zip_path = r\"C:\\Users\\sanfe\\OneDrive\\Desktop\\Machine Learning\\Project 3\\archive.zip\"\n",
    "extraction_path = r\"C:\\Users\\sanfe\\OneDrive\\Desktop\\Machine Learning\\Project 3\\dataset\"\n",
    "\n",
    "# Unzip the dataset\n",
    "with zipfile.ZipFile(zip_path, 'r') as zip_ref:\n",
    "    zip_ref.extractall(extraction_path)\n",
    "\n",
    "# Set up directories\n",
    "train_dir = os.path.join(extraction_path, 'train')\n",
    "test_dir = os.path.join(extraction_path, 'test')\n",
    "\n",
    "# Define image dimensions\n",
    "img_width, img_height = 48, 48  # You can adjust this based on your specific dataset\n",
    "batch_size = 26 # You can adjust this based on your specific needs\n",
    "\n",
    "\n",
    "# Load images using image_dataset_from_directory\n",
    "train_dataset = tfk.utils.image_dataset_from_directory(\n",
    "    train_dir,\n",
    "    color_mode='grayscale', # or 'rgb' for colored images\n",
    "    label_mode='categorical',  # or 'binary' if you have two classes\n",
    "    batch_size=batch_size,\n",
    "    image_size=(img_width, img_height))\n",
    "\n",
    "\n",
    "test_dataset = tfk.utils.image_dataset_from_directory(\n",
    "    test_dir,\n",
    "    color_mode='grayscale', # or 'rgb' for colored images\n",
    "    label_mode='categorical',  # or 'binary' if you have two classes\n",
    "    batch_size=batch_size,\n",
    "    image_size=(img_width, img_height))\n",
    "\n",
    "\n",
    "# Data preprocessing and augmentation\n",
    "# You can add your preprocessing layers here\n",
    "preprocessing_model = tfk.Sequential([\n",
    "    tfk.layers.Rescaling(1./255),  # Rescale pixel values\n",
    "    # Add any additional preprocessing layers here\n",
    "])\n",
    "\n",
    "\n",
    "# Apply the preprocessing to the dataset\n",
    "train_dataset = train_dataset.map(lambda x, y: (preprocessing_model(x), y))\n",
    "test_dataset = test_dataset.map(lambda x, y: (preprocessing_model(x), y))\n",
    "train_dataset = train_dataset.take(200)\n",
    "test_dataset = test_dataset.take(40)\n",
    "\n",
    "\n",
    "# To get the labels from the train dataset\n",
    "train_labels = []\n",
    "for _, labels in train_dataset:\n",
    "    train_labels.extend(labels.numpy())\n",
    "\n",
    "# Do the same for the test dataset\n",
    "test_labels = []\n",
    "for _, labels in test_dataset:\n",
    "    test_labels.extend(labels.numpy())\n",
    "\n",
    "# Now train_labels and test_labels contain the labels for their respective datasets\n",
    "\n",
    "#Split the images from their target\n",
    "\n",
    "x_train_list = []\n",
    "t_train_list = []\n",
    "\n",
    "\n",
    "# Iterate through the training dataset\n",
    "for images, labels in train_dataset:\n",
    "    # Append images and labels to the respective lists\n",
    "    x_train_list.append(images.numpy())\n",
    "    t_train_list.append(labels.numpy())\n",
    "\n",
    "\n",
    "# Convert lists to numpy arrays\n",
    "x_train = np.concatenate(x_train_list, axis=0)\n",
    "t_train = np.concatenate(t_train_list, axis=0)\n",
    "\n",
    "# Do the same for the test dataset\n",
    "x_test_list = []\n",
    "t_test_list = []\n",
    "\n",
    "for images, labels in test_dataset:\n",
    "    x_test_list.append(images.numpy())\n",
    "    t_test_list.append(labels.numpy())\n",
    "\n",
    "x_test = np.concatenate(x_test_list, axis=0)\n",
    "t_test = np.concatenate(t_test_list, axis=0)\n",
    "\n",
    "\n",
    "# Now you can use x_train, t_train, x_test, and t_test with your custom CNN\n",
    "\n",
    "print(\"x train shape:\", x_train.shape)\n",
    "print(\"t train shape:\", t_train.shape)\n",
    "print(\"x test shape:\", x_test.shape)\n",
    "print(\"t test shape:\", t_test.shape)"
   ]
  },
  {
   "cell_type": "code",
   "execution_count": 3,
   "metadata": {},
   "outputs": [
    {
     "name": "stdout",
     "output_type": "stream",
     "text": [
      "WARNING:tensorflow:From c:\\Users\\sanfe\\AppData\\Local\\Programs\\Python\\Python311\\Lib\\site-packages\\keras\\src\\layers\\pooling\\max_pooling2d.py:161: The name tf.nn.max_pool is deprecated. Please use tf.nn.max_pool2d instead.\n",
      "\n",
      "Model: \"sequential_1\"\n",
      "_________________________________________________________________\n",
      " Layer (type)                Output Shape              Param #   \n",
      "=================================================================\n",
      " conv2d (Conv2D)             (None, 46, 46, 32)        320       \n",
      "                                                                 \n",
      " max_pooling2d (MaxPooling2  (None, 23, 23, 32)        0         \n",
      " D)                                                              \n",
      "                                                                 \n",
      " conv2d_1 (Conv2D)           (None, 21, 21, 64)        18496     \n",
      "                                                                 \n",
      " max_pooling2d_1 (MaxPoolin  (None, 10, 10, 64)        0         \n",
      " g2D)                                                            \n",
      "                                                                 \n",
      " conv2d_2 (Conv2D)           (None, 8, 8, 64)          36928     \n",
      "                                                                 \n",
      " max_pooling2d_2 (MaxPoolin  (None, 4, 4, 64)          0         \n",
      " g2D)                                                            \n",
      "                                                                 \n",
      " dropout (Dropout)           (None, 4, 4, 64)          0         \n",
      "                                                                 \n",
      " flatten (Flatten)           (None, 1024)              0         \n",
      "                                                                 \n",
      " dense (Dense)               (None, 64)                65600     \n",
      "                                                                 \n",
      " dense_1 (Dense)             (None, 7)                 455       \n",
      "                                                                 \n",
      " dense_2 (Dense)             (None, 7)                 56        \n",
      "                                                                 \n",
      "=================================================================\n",
      "Total params: 121855 (476.00 KB)\n",
      "Trainable params: 121855 (476.00 KB)\n",
      "Non-trainable params: 0 (0.00 Byte)\n",
      "_________________________________________________________________\n",
      "WARNING:tensorflow:From c:\\Users\\sanfe\\AppData\\Local\\Programs\\Python\\Python311\\Lib\\site-packages\\keras\\src\\optimizers\\__init__.py:309: The name tf.train.Optimizer is deprecated. Please use tf.compat.v1.train.Optimizer instead.\n",
      "\n",
      "Epoch 1/20\n",
      "WARNING:tensorflow:From c:\\Users\\sanfe\\AppData\\Local\\Programs\\Python\\Python311\\Lib\\site-packages\\keras\\src\\utils\\tf_utils.py:492: The name tf.ragged.RaggedTensorValue is deprecated. Please use tf.compat.v1.ragged.RaggedTensorValue instead.\n",
      "\n",
      "WARNING:tensorflow:From c:\\Users\\sanfe\\AppData\\Local\\Programs\\Python\\Python311\\Lib\\site-packages\\keras\\src\\engine\\base_layer_utils.py:384: The name tf.executing_eagerly_outside_functions is deprecated. Please use tf.compat.v1.executing_eagerly_outside_functions instead.\n",
      "\n",
      "103/104 [============================>.] - ETA: 0s - loss: 1.9399 - accuracy: 0.1874INFO:tensorflow:Assets written to: best_model.pth\\assets\n"
     ]
    },
    {
     "name": "stderr",
     "output_type": "stream",
     "text": [
      "INFO:tensorflow:Assets written to: best_model.pth\\assets\n"
     ]
    },
    {
     "name": "stdout",
     "output_type": "stream",
     "text": [
      "104/104 [==============================] - 6s 46ms/step - loss: 1.9395 - accuracy: 0.1875 - val_loss: 1.9216 - val_accuracy: 0.1654\n",
      "Epoch 2/20\n",
      "103/104 [============================>.] - ETA: 0s - loss: 1.8919 - accuracy: 0.1891INFO:tensorflow:Assets written to: best_model.pth\\assets\n"
     ]
    },
    {
     "name": "stderr",
     "output_type": "stream",
     "text": [
      "INFO:tensorflow:Assets written to: best_model.pth\\assets\n"
     ]
    },
    {
     "name": "stdout",
     "output_type": "stream",
     "text": [
      "104/104 [==============================] - 4s 39ms/step - loss: 1.8915 - accuracy: 0.1906 - val_loss: 1.8505 - val_accuracy: 0.2192\n",
      "Epoch 3/20\n",
      "104/104 [==============================] - ETA: 0s - loss: 1.8216 - accuracy: 0.2325INFO:tensorflow:Assets written to: best_model.pth\\assets\n"
     ]
    },
    {
     "name": "stderr",
     "output_type": "stream",
     "text": [
      "INFO:tensorflow:Assets written to: best_model.pth\\assets\n"
     ]
    },
    {
     "name": "stdout",
     "output_type": "stream",
     "text": [
      "104/104 [==============================] - 4s 41ms/step - loss: 1.8216 - accuracy: 0.2325 - val_loss: 1.7868 - val_accuracy: 0.2519\n",
      "Epoch 4/20\n",
      "104/104 [==============================] - ETA: 0s - loss: 1.7750 - accuracy: 0.2531INFO:tensorflow:Assets written to: best_model.pth\\assets\n"
     ]
    },
    {
     "name": "stderr",
     "output_type": "stream",
     "text": [
      "INFO:tensorflow:Assets written to: best_model.pth\\assets\n"
     ]
    },
    {
     "name": "stdout",
     "output_type": "stream",
     "text": [
      "104/104 [==============================] - 4s 41ms/step - loss: 1.7750 - accuracy: 0.2531 - val_loss: 1.7619 - val_accuracy: 0.2500\n",
      "Epoch 5/20\n",
      "102/104 [============================>.] - ETA: 0s - loss: 1.7450 - accuracy: 0.2700INFO:tensorflow:Assets written to: best_model.pth\\assets\n"
     ]
    },
    {
     "name": "stderr",
     "output_type": "stream",
     "text": [
      "INFO:tensorflow:Assets written to: best_model.pth\\assets\n"
     ]
    },
    {
     "name": "stdout",
     "output_type": "stream",
     "text": [
      "104/104 [==============================] - 4s 41ms/step - loss: 1.7449 - accuracy: 0.2704 - val_loss: 1.7352 - val_accuracy: 0.3269\n",
      "Epoch 6/20\n",
      "103/104 [============================>.] - ETA: 0s - loss: 1.7101 - accuracy: 0.3274INFO:tensorflow:Assets written to: best_model.pth\\assets\n"
     ]
    },
    {
     "name": "stderr",
     "output_type": "stream",
     "text": [
      "INFO:tensorflow:Assets written to: best_model.pth\\assets\n"
     ]
    },
    {
     "name": "stdout",
     "output_type": "stream",
     "text": [
      "104/104 [==============================] - 7s 64ms/step - loss: 1.7091 - accuracy: 0.3279 - val_loss: 1.6787 - val_accuracy: 0.3462\n",
      "Epoch 7/20\n",
      "104/104 [==============================] - ETA: 0s - loss: 1.6604 - accuracy: 0.3433INFO:tensorflow:Assets written to: best_model.pth\\assets\n"
     ]
    },
    {
     "name": "stderr",
     "output_type": "stream",
     "text": [
      "INFO:tensorflow:Assets written to: best_model.pth\\assets\n"
     ]
    },
    {
     "name": "stdout",
     "output_type": "stream",
     "text": [
      "104/104 [==============================] - 5s 51ms/step - loss: 1.6604 - accuracy: 0.3433 - val_loss: 1.6434 - val_accuracy: 0.3692\n",
      "Epoch 8/20\n",
      "103/104 [============================>.] - ETA: 0s - loss: 1.6186 - accuracy: 0.3619INFO:tensorflow:Assets written to: best_model.pth\\assets\n"
     ]
    },
    {
     "name": "stderr",
     "output_type": "stream",
     "text": [
      "INFO:tensorflow:Assets written to: best_model.pth\\assets\n"
     ]
    },
    {
     "name": "stdout",
     "output_type": "stream",
     "text": [
      "104/104 [==============================] - 5s 45ms/step - loss: 1.6178 - accuracy: 0.3619 - val_loss: 1.6056 - val_accuracy: 0.3712\n",
      "Epoch 9/20\n",
      "104/104 [==============================] - ETA: 0s - loss: 1.6023 - accuracy: 0.3698INFO:tensorflow:Assets written to: best_model.pth\\assets\n"
     ]
    },
    {
     "name": "stderr",
     "output_type": "stream",
     "text": [
      "INFO:tensorflow:Assets written to: best_model.pth\\assets\n"
     ]
    },
    {
     "name": "stdout",
     "output_type": "stream",
     "text": [
      "104/104 [==============================] - 4s 42ms/step - loss: 1.6023 - accuracy: 0.3698 - val_loss: 1.5809 - val_accuracy: 0.3885\n",
      "Epoch 10/20\n",
      "103/104 [============================>.] - ETA: 0s - loss: 1.5734 - accuracy: 0.3775INFO:tensorflow:Assets written to: best_model.pth\\assets\n"
     ]
    },
    {
     "name": "stderr",
     "output_type": "stream",
     "text": [
      "INFO:tensorflow:Assets written to: best_model.pth\\assets\n"
     ]
    },
    {
     "name": "stdout",
     "output_type": "stream",
     "text": [
      "104/104 [==============================] - 5s 45ms/step - loss: 1.5714 - accuracy: 0.3788 - val_loss: 1.5745 - val_accuracy: 0.3933\n",
      "Epoch 11/20\n",
      "103/104 [============================>.] - ETA: 0s - loss: 1.5509 - accuracy: 0.3874INFO:tensorflow:Assets written to: best_model.pth\\assets\n"
     ]
    },
    {
     "name": "stderr",
     "output_type": "stream",
     "text": [
      "INFO:tensorflow:Assets written to: best_model.pth\\assets\n"
     ]
    },
    {
     "name": "stdout",
     "output_type": "stream",
     "text": [
      "104/104 [==============================] - 5s 45ms/step - loss: 1.5511 - accuracy: 0.3865 - val_loss: 1.5545 - val_accuracy: 0.4019\n",
      "Epoch 12/20\n",
      "103/104 [============================>.] - ETA: 0s - loss: 1.5233 - accuracy: 0.4016INFO:tensorflow:Assets written to: best_model.pth\\assets\n"
     ]
    },
    {
     "name": "stderr",
     "output_type": "stream",
     "text": [
      "INFO:tensorflow:Assets written to: best_model.pth\\assets\n"
     ]
    },
    {
     "name": "stdout",
     "output_type": "stream",
     "text": [
      "104/104 [==============================] - 5s 45ms/step - loss: 1.5234 - accuracy: 0.4017 - val_loss: 1.5390 - val_accuracy: 0.4106\n",
      "Epoch 13/20\n",
      "103/104 [============================>.] - ETA: 0s - loss: 1.5001 - accuracy: 0.4115INFO:tensorflow:Assets written to: best_model.pth\\assets\n"
     ]
    },
    {
     "name": "stderr",
     "output_type": "stream",
     "text": [
      "INFO:tensorflow:Assets written to: best_model.pth\\assets\n"
     ]
    },
    {
     "name": "stdout",
     "output_type": "stream",
     "text": [
      "104/104 [==============================] - 5s 45ms/step - loss: 1.5003 - accuracy: 0.4117 - val_loss: 1.5244 - val_accuracy: 0.4260\n",
      "Epoch 14/20\n",
      "102/104 [============================>.] - ETA: 0s - loss: 1.4949 - accuracy: 0.4251INFO:tensorflow:Assets written to: best_model.pth\\assets\n"
     ]
    },
    {
     "name": "stderr",
     "output_type": "stream",
     "text": [
      "INFO:tensorflow:Assets written to: best_model.pth\\assets\n"
     ]
    },
    {
     "name": "stdout",
     "output_type": "stream",
     "text": [
      "104/104 [==============================] - 5s 45ms/step - loss: 1.4939 - accuracy: 0.4254 - val_loss: 1.5095 - val_accuracy: 0.4183\n",
      "Epoch 15/20\n",
      "104/104 [==============================] - ETA: 0s - loss: 1.4607 - accuracy: 0.4287INFO:tensorflow:Assets written to: best_model.pth\\assets\n"
     ]
    },
    {
     "name": "stderr",
     "output_type": "stream",
     "text": [
      "INFO:tensorflow:Assets written to: best_model.pth\\assets\n"
     ]
    },
    {
     "name": "stdout",
     "output_type": "stream",
     "text": [
      "104/104 [==============================] - 5s 46ms/step - loss: 1.4607 - accuracy: 0.4287 - val_loss: 1.5057 - val_accuracy: 0.4433\n",
      "Epoch 16/20\n",
      "104/104 [==============================] - ETA: 0s - loss: 1.4441 - accuracy: 0.4408INFO:tensorflow:Assets written to: best_model.pth\\assets\n"
     ]
    },
    {
     "name": "stderr",
     "output_type": "stream",
     "text": [
      "INFO:tensorflow:Assets written to: best_model.pth\\assets\n"
     ]
    },
    {
     "name": "stdout",
     "output_type": "stream",
     "text": [
      "104/104 [==============================] - 5s 45ms/step - loss: 1.4441 - accuracy: 0.4408 - val_loss: 1.5036 - val_accuracy: 0.4317\n",
      "Epoch 17/20\n",
      "103/104 [============================>.] - ETA: 0s - loss: 1.4148 - accuracy: 0.4493INFO:tensorflow:Assets written to: best_model.pth\\assets\n"
     ]
    },
    {
     "name": "stderr",
     "output_type": "stream",
     "text": [
      "INFO:tensorflow:Assets written to: best_model.pth\\assets\n"
     ]
    },
    {
     "name": "stdout",
     "output_type": "stream",
     "text": [
      "104/104 [==============================] - 5s 46ms/step - loss: 1.4154 - accuracy: 0.4492 - val_loss: 1.4622 - val_accuracy: 0.4529\n",
      "Epoch 18/20\n",
      "103/104 [============================>.] - ETA: 0s - loss: 1.3995 - accuracy: 0.4633INFO:tensorflow:Assets written to: best_model.pth\\assets\n"
     ]
    },
    {
     "name": "stderr",
     "output_type": "stream",
     "text": [
      "INFO:tensorflow:Assets written to: best_model.pth\\assets\n"
     ]
    },
    {
     "name": "stdout",
     "output_type": "stream",
     "text": [
      "104/104 [==============================] - 5s 44ms/step - loss: 1.3985 - accuracy: 0.4631 - val_loss: 1.4639 - val_accuracy: 0.4510\n",
      "Epoch 19/20\n",
      "104/104 [==============================] - ETA: 0s - loss: 1.3793 - accuracy: 0.4710INFO:tensorflow:Assets written to: best_model.pth\\assets\n"
     ]
    },
    {
     "name": "stderr",
     "output_type": "stream",
     "text": [
      "INFO:tensorflow:Assets written to: best_model.pth\\assets\n"
     ]
    },
    {
     "name": "stdout",
     "output_type": "stream",
     "text": [
      "104/104 [==============================] - 5s 45ms/step - loss: 1.3793 - accuracy: 0.4710 - val_loss: 1.4747 - val_accuracy: 0.4413\n",
      "Epoch 20/20\n",
      "103/104 [============================>.] - ETA: 0s - loss: 1.3676 - accuracy: 0.4717INFO:tensorflow:Assets written to: best_model.pth\\assets\n"
     ]
    },
    {
     "name": "stderr",
     "output_type": "stream",
     "text": [
      "INFO:tensorflow:Assets written to: best_model.pth\\assets\n"
     ]
    },
    {
     "name": "stdout",
     "output_type": "stream",
     "text": [
      "104/104 [==============================] - 5s 45ms/step - loss: 1.3673 - accuracy: 0.4715 - val_loss: 1.4744 - val_accuracy: 0.4452\n"
     ]
    }
   ],
   "source": [
    "num_classes = 7\n",
    "batch_size_gd = 50\n",
    "l2_lambda = 0.0001\n",
    "\n",
    "model = models.Sequential()\n",
    "\n",
    "# Convolutional Layer 1\n",
    "model.add(layers.Conv2D(32, (3, 3),\n",
    "                         activation='relu',\n",
    "                           input_shape=(img_width, img_width, 1)))\n",
    "# Max Pooling Layer 1\n",
    "model.add(layers.MaxPooling2D((2, 2)))\n",
    "\n",
    "# Convolutional Layer 2\n",
    "model.add(layers.Conv2D(64, (3, 3)\n",
    "                        , activation='relu'))\n",
    "\n",
    "# Max Pooling Layer 2\n",
    "model.add(layers.MaxPooling2D((2, 2)))\n",
    "\n",
    "# Convolutional Layer 3\n",
    "model.add(layers.Conv2D(64, (3, 3)\n",
    "                        , activation='relu'))\n",
    "\n",
    "# Max Pooling Layer 3\n",
    "model.add(layers.MaxPooling2D((2, 2)))\n",
    "model.add(layers.Dropout(0.5))\n",
    "\n",
    "\n",
    "# Flattening Layer\n",
    "model.add(layers.Flatten())\n",
    "\n",
    "# Fully Connected Layer 1 with L2 Regularization\n",
    "model.add(layers.Dense(64, activation='relu', kernel_regularizer=regularizers.l2(l2_lambda)))\n",
    "\n",
    "# Fully Connected Layer 2 with L2 Regularization\n",
    "model.add(layers.Dense(7, activation='relu', kernel_regularizer=regularizers.l2(l2_lambda)))\n",
    "\n",
    "# Output Layer\n",
    "model.add(layers.Dense(num_classes, activation='softmax'))\n",
    "\n",
    "#display model architecture\n",
    "model.summary()\n",
    "\n",
    "learning_rate = 0.0001\n",
    "\n",
    "# Compile the model\n",
    "model.compile(optimizer='adam', \n",
    "              loss='categorical_crossentropy', \n",
    "              metrics=['accuracy'])\n",
    "\n",
    "# Define the checkpoint callback\n",
    "checkpoint_callback = ModelCheckpoint(\n",
    "    filepath=r\"best_model.pth\",  # Corrected path\n",
    "    monitor = \"val_loss\",\n",
    "    verbose = 0,\n",
    "    save_best_only = False,\n",
    "    save_weights_only = False,\n",
    "    mode = \"auto\",\n",
    "    save_freq=\"epoch\",\n",
    "    options=None,\n",
    "    initial_value_threshold=None\n",
    ")\n",
    "\n",
    "# Train the model with L2 regularization\n",
    "history = model.fit(\n",
    "    x_train, t_train,\n",
    "    batch_size=batch_size_gd,\n",
    "    epochs=20,\n",
    "    validation_data=(x_test, t_test),\n",
    "    callbacks=[checkpoint_callback]  # Put the callback inside a list\n",
    ")"
   ]
  },
  {
   "cell_type": "code",
   "execution_count": 4,
   "metadata": {},
   "outputs": [
    {
     "data": {
      "image/png": "[encoded data removed]",
      "text/plain": [
       "<Figure size 640x480 with 1 Axes>"
      ]
     },
     "metadata": {},
     "output_type": "display_data"
    }
   ],
   "source": [
    "plt.plot(history.history['accuracy'], label='accuracy')\n",
    "plt.plot(history.history['val_accuracy'], label = 'val_accuracy')\n",
    "plt.title('CNN accuracy')\n",
    "plt.xlabel('Epoch')\n",
    "plt.ylabel('Accuracy')\n",
    "plt.ylim([0, 1])\n",
    "plt.legend(loc='lower right')\n",
    "plt.show()"
   ]
  },
  {
   "cell_type": "code",
   "execution_count": 5,
   "metadata": {},
   "outputs": [
    {
     "data": {
      "image/png": "[encoded data removed]",
      "text/plain": [
       "<Figure size 640x480 with 1 Axes>"
      ]
     },
     "metadata": {},
     "output_type": "display_data"
    }
   ],
   "source": [
    "plt.plot(history.history['loss'], label='loss')\n",
    "plt.plot(history.history['val_loss'], label = 'val_loss')\n",
    "plt.title('CNN cross-entropy Loss')\n",
    "plt.xlabel('Epoch')\n",
    "plt.ylabel('Loss')\n",
    "plt.legend(loc='lower right')\n",
    "plt.show()"
   ]
  },
  {
   "cell_type": "code",
   "execution_count": 6,
   "metadata": {},
   "outputs": [],
   "source": [
    "y_true_classes = [np.argmax(i) for i in test_labels]"
   ]
  },
  {
   "cell_type": "code",
   "execution_count": 7,
   "metadata": {},
   "outputs": [
    {
     "name": "stdout",
     "output_type": "stream",
     "text": [
      "WARNING:tensorflow:From c:\\Users\\sanfe\\AppData\\Local\\Programs\\Python\\Python311\\Lib\\site-packages\\keras\\src\\saving\\legacy\\saved_model\\load.py:107: The name tf.gfile.Exists is deprecated. Please use tf.io.gfile.exists instead.\n",
      "\n"
     ]
    },
    {
     "name": "stderr",
     "output_type": "stream",
     "text": [
      "WARNING:tensorflow:From c:\\Users\\sanfe\\AppData\\Local\\Programs\\Python\\Python311\\Lib\\site-packages\\keras\\src\\saving\\legacy\\saved_model\\load.py:107: The name tf.gfile.Exists is deprecated. Please use tf.io.gfile.exists instead.\n",
      "\n"
     ]
    },
    {
     "name": "stdout",
     "output_type": "stream",
     "text": [
      "33/33 [==============================] - 0s 6ms/step\n",
      "33/33 [==============================] - 0s 7ms/step - loss: 1.4744 - accuracy: 0.4452\n",
      "Test accuracy: 0.4451923072338104\n",
      "Test loss: 1.4743685722351074\n"
     ]
    },
    {
     "data": {
      "image/png": "[encoded data removed]",
      "text/plain": [
       "<Figure size 640x480 with 2 Axes>"
      ]
     },
     "metadata": {},
     "output_type": "display_data"
    }
   ],
   "source": [
    "# Load the best saved model\n",
    "best_model = load_model('best_model.pth')\n",
    "\n",
    "y_pred = best_model.predict(x_test)\n",
    "y_pred_classes = np.argmax(y_pred, axis=1)\n",
    "\n",
    "# Evaluate the best model on the test data\n",
    "test_loss, test_accuracy = best_model.evaluate(x_test, t_test)\n",
    "\n",
    "print(f\"Test accuracy: {test_accuracy}\")\n",
    "print(f\"Test loss: {test_loss}\")\n",
    "\n",
    "from sklearn.metrics import confusion_matrix, ConfusionMatrixDisplay\n",
    "# Calculate the confusion matrix\n",
    "conf_mat = confusion_matrix(y_true_classes, y_pred_classes)\n",
    "\n",
    "# Display the confusion matrix\n",
    "disp = ConfusionMatrixDisplay(conf_mat, display_labels=np.arange(num_classes))\n",
    "disp.plot(cmap='viridis', values_format='d')\n",
    "plt.title('Confusion Matrix')\n",
    "plt.show()"
   ]
  },
  {
   "cell_type": "code",
   "execution_count": 8,
   "metadata": {},
   "outputs": [
    {
     "name": "stdout",
     "output_type": "stream",
     "text": [
      "Class 0: Accuracy = 14.49%\n",
      "Class 1: Accuracy = 0.00%\n",
      "Class 2: Accuracy = 4.08%\n",
      "Class 3: Accuracy = 32.69%\n",
      "Class 4: Accuracy = 25.00%\n",
      "Class 5: Accuracy = 25.14%\n",
      "Class 6: Accuracy = 8.62%\n"
     ]
    }
   ],
   "source": [
    "class_accuracies = np.diag(conf_mat) / np.sum(conf_mat, axis=1)\n",
    "\n",
    "for i, accuracy in enumerate(class_accuracies):\n",
    "    print(f'Class {i}: Accuracy = {accuracy * 100:.2f}%')"
   ]
  },
  {
   "cell_type": "code",
   "execution_count": 9,
   "metadata": {},
   "outputs": [
    {
     "name": "stdout",
     "output_type": "stream",
     "text": [
      "Total Accuracy: 20.38%\n"
     ]
    }
   ],
   "source": [
    "total_accuracy = np.sum(np.diag(conf_mat)) / np.sum(conf_mat)\n",
    "\n",
    "print(f'Total Accuracy: {total_accuracy * 100:.2f}%')"
   ]
  },
  {
   "cell_type": "code",
   "execution_count": null,
   "metadata": {},
   "outputs": [],
   "source": []
  }
 ],
 "metadata": {
  "kernelspec": {
   "display_name": "Python 3",
   "language": "python",
   "name": "python3"
  },
  "language_info": {
   "codemirror_mode": {
    "name": "ipython",
    "version": 3
   },
   "file_extension": ".py",
   "mimetype": "text/x-python",
   "name": "python",
   "nbconvert_exporter": "python",
   "pygments_lexer": "ipython3",
   "version": "3.11.1"
  }
 },
 "nbformat": 4,
 "nbformat_minor": 2
}
