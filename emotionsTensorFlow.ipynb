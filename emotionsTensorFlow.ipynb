{
 "cells": [
  {
   "cell_type": "code",
   "execution_count": 2,
   "metadata": {},
   "outputs": [
    {
     "name": "stdout",
     "output_type": "stream",
     "text": [
      "Python VERSION: 3.11.1 (tags/v3.11.1:a7a450f, Dec  6 2022, 19:58:39) [MSC v.1934 64 bit (AMD64)]\n"
     ]
    },
    {
     "name": "stdout",
     "output_type": "stream",
     "text": [
      "Found 28709 files belonging to 7 classes.\n",
      "Found 7178 files belonging to 7 classes.\n",
      "WARNING:tensorflow:From c:\\Users\\sanfe\\AppData\\Local\\Programs\\Python\\Python311\\Lib\\site-packages\\keras\\src\\backend.py:873: The name tf.get_default_graph is deprecated. Please use tf.compat.v1.get_default_graph instead.\n",
      "\n",
      "x train shape: (5200, 48, 48, 1)\n",
      "t train shape: (5200, 7)\n",
      "x test shape: (1040, 48, 48, 1)\n",
      "t test shape: (1040, 7)\n"
     ]
    }
   ],
   "source": [
    "import os\n",
    "import zipfile\n",
    "from tensorflow import keras as tfk\n",
    "from CNN import *\n",
    "import matplotlib.pyplot as plt\n",
    "import tensorflow as tf\n",
    "from tensorflow.keras import regularizers\n",
    "from tensorflow.keras import datasets, layers, models\n",
    "from tensorflow.keras.callbacks import ModelCheckpoint\n",
    "from tensorflow.keras.models import load_model\n",
    "\n",
    "\n",
    "# print python version\n",
    "print(\"Python VERSION:\", sys.version)\n",
    "\n",
    "\n",
    "\"\"\"\n",
    "        Description:\n",
    "        ------------\n",
    "            CNN application to the emotions dataset, remeber to change the path \n",
    "            to the dataset in the beginning of the code.\n",
    "\n",
    "        Parameters to tune:\n",
    "        ------------\n",
    "            I  Architecture of the CNN( Number and types of layers)\n",
    "            II  Dimensions and number of the kernels (height and width) used for convolution and pooling\n",
    "            III stride in the convolutional layers and pooling layers, padding or no padding\n",
    "            IV  Numbers of epochs and batches ( 2 types of batches are used, one for the GD(in the fit function) and one for data preprocessing)\n",
    "            V   Learning rate and regularization parameter ( lambda)\n",
    "            VI  Activation functions ( sigmoid, tanh, relu, leaky relu, softmax)\n",
    "            VII  Number of neurons in the fully connected layers\n",
    "        \"\"\"\n",
    "\n",
    "# Path to the zip file and extraction directory\n",
    "zip_path = r'archive.zip'\n",
    "extraction_path = r'dataset'\n",
    "\n",
    "# Unzip the dataset\n",
    "with zipfile.ZipFile(zip_path, 'r') as zip_ref:\n",
    "    zip_ref.extractall(extraction_path)\n",
    "\n",
    "# Set up directories\n",
    "train_dir = os.path.join(extraction_path, 'train')\n",
    "test_dir = os.path.join(extraction_path, 'test')\n",
    "\n",
    "# Define image dimensions\n",
    "img_width, img_height = 48, 48  # You can adjust this based on your specific dataset\n",
    "batch_size = 26 # You can adjust this based on your specific needs\n",
    "\n",
    "\n",
    "# Load images using image_dataset_from_directory\n",
    "train_dataset = tfk.utils.image_dataset_from_directory(\n",
    "    train_dir,\n",
    "    color_mode='grayscale', # or 'rgb' for colored images\n",
    "    label_mode='categorical',  # or 'binary' if you have two classes\n",
    "    batch_size=batch_size,\n",
    "    image_size=(img_width, img_height))\n",
    "\n",
    "\n",
    "test_dataset = tfk.utils.image_dataset_from_directory(\n",
    "    test_dir,\n",
    "    color_mode='grayscale', # or 'rgb' for colored images\n",
    "    label_mode='categorical',  # or 'binary' if you have two classes\n",
    "    batch_size=batch_size,\n",
    "    image_size=(img_width, img_height))\n",
    "\n",
    "\n",
    "# Data preprocessing and augmentation\n",
    "# You can add your preprocessing layers here\n",
    "preprocessing_model = tfk.Sequential([\n",
    "    tfk.layers.Rescaling(1./255),  # Rescale pixel values\n",
    "    # Add any additional preprocessing layers here\n",
    "])\n",
    "\n",
    "\n",
    "# Apply the preprocessing to the dataset\n",
    "train_dataset = train_dataset.map(lambda x, y: (preprocessing_model(x), y))\n",
    "test_dataset = test_dataset.map(lambda x, y: (preprocessing_model(x), y))\n",
    "train_dataset = train_dataset.take(200)\n",
    "test_dataset = test_dataset.take(40)\n",
    "\n",
    "\n",
    "# To get the labels from the train dataset\n",
    "train_labels = []\n",
    "for _, labels in train_dataset:\n",
    "    train_labels.extend(labels.numpy())\n",
    "\n",
    "# Do the same for the test dataset\n",
    "test_labels = []\n",
    "for _, labels in test_dataset:\n",
    "    test_labels.extend(labels.numpy())\n",
    "\n",
    "# Now train_labels and test_labels contain the labels for their respective datasets\n",
    "\n",
    "#Split the images from their target\n",
    "\n",
    "x_train_list = []\n",
    "t_train_list = []\n",
    "\n",
    "\n",
    "# Iterate through the training dataset\n",
    "for images, labels in train_dataset:\n",
    "    # Append images and labels to the respective lists\n",
    "    x_train_list.append(images.numpy())\n",
    "    t_train_list.append(labels.numpy())\n",
    "\n",
    "\n",
    "# Convert lists to numpy arrays\n",
    "x_train = np.concatenate(x_train_list, axis=0)\n",
    "t_train = np.concatenate(t_train_list, axis=0)\n",
    "\n",
    "# Do the same for the test dataset\n",
    "x_test_list = []\n",
    "t_test_list = []\n",
    "\n",
    "for images, labels in test_dataset:\n",
    "    x_test_list.append(images.numpy())\n",
    "    t_test_list.append(labels.numpy())\n",
    "\n",
    "x_test = np.concatenate(x_test_list, axis=0)\n",
    "t_test = np.concatenate(t_test_list, axis=0)\n",
    "\n",
    "\n",
    "# Now you can use x_train, t_train, x_test, and t_test with your custom CNN\n",
    "\n",
    "print(\"x train shape:\", x_train.shape)\n",
    "print(\"t train shape:\", t_train.shape)\n",
    "print(\"x test shape:\", x_test.shape)\n",
    "print(\"t test shape:\", t_test.shape)"
   ]
  },
  {
   "cell_type": "code",
   "execution_count": 9,
   "metadata": {},
   "outputs": [
    {
     "name": "stdout",
     "output_type": "stream",
     "text": [
      "Model: \"sequential_2\"\n",
      "_________________________________________________________________\n",
      " Layer (type)                Output Shape              Param #   \n",
      "=================================================================\n",
      " conv2d_3 (Conv2D)           (None, 46, 46, 32)        320       \n",
      "                                                                 \n",
      " max_pooling2d_3 (MaxPoolin  (None, 23, 23, 32)        0         \n",
      " g2D)                                                            \n",
      "                                                                 \n",
      " conv2d_4 (Conv2D)           (None, 21, 21, 64)        18496     \n",
      "                                                                 \n",
      " max_pooling2d_4 (MaxPoolin  (None, 10, 10, 64)        0         \n",
      " g2D)                                                            \n",
      "                                                                 \n",
      " conv2d_5 (Conv2D)           (None, 8, 8, 64)          36928     \n",
      "                                                                 \n",
      " max_pooling2d_5 (MaxPoolin  (None, 4, 4, 64)          0         \n",
      " g2D)                                                            \n",
      "                                                                 \n",
      " dropout_1 (Dropout)         (None, 4, 4, 64)          0         \n",
      "                                                                 \n",
      " flatten_1 (Flatten)         (None, 1024)              0         \n",
      "                                                                 \n",
      " dense_3 (Dense)             (None, 64)                65600     \n",
      "                                                                 \n",
      " dense_4 (Dense)             (None, 7)                 455       \n",
      "                                                                 \n",
      " dense_5 (Dense)             (None, 7)                 56        \n",
      "                                                                 \n",
      "=================================================================\n",
      "Total params: 121855 (476.00 KB)\n",
      "Trainable params: 121855 (476.00 KB)\n",
      "Non-trainable params: 0 (0.00 Byte)\n",
      "_________________________________________________________________\n",
      "Epoch 1/20\n",
      "104/104 [==============================] - ETA: 0s - loss: 1.8647 - accuracy: 0.2463INFO:tensorflow:Assets written to: best_model.pth\\assets\n"
     ]
    },
    {
     "name": "stderr",
     "output_type": "stream",
     "text": [
      "INFO:tensorflow:Assets written to: best_model.pth\\assets\n"
     ]
    },
    {
     "name": "stdout",
     "output_type": "stream",
     "text": [
      "104/104 [==============================] - 8s 57ms/step - loss: 1.8647 - accuracy: 0.2463 - val_loss: 1.8411 - val_accuracy: 0.2644\n",
      "Epoch 2/20\n",
      "104/104 [==============================] - ETA: 0s - loss: 1.8341 - accuracy: 0.2481INFO:tensorflow:Assets written to: best_model.pth\\assets\n"
     ]
    },
    {
     "name": "stderr",
     "output_type": "stream",
     "text": [
      "INFO:tensorflow:Assets written to: best_model.pth\\assets\n"
     ]
    },
    {
     "name": "stdout",
     "output_type": "stream",
     "text": [
      "104/104 [==============================] - 6s 58ms/step - loss: 1.8341 - accuracy: 0.2481 - val_loss: 1.8202 - val_accuracy: 0.2644\n",
      "Epoch 3/20\n",
      "104/104 [==============================] - ETA: 0s - loss: 1.8141 - accuracy: 0.2488INFO:tensorflow:Assets written to: best_model.pth\\assets\n"
     ]
    },
    {
     "name": "stderr",
     "output_type": "stream",
     "text": [
      "INFO:tensorflow:Assets written to: best_model.pth\\assets\n"
     ]
    },
    {
     "name": "stdout",
     "output_type": "stream",
     "text": [
      "104/104 [==============================] - 6s 61ms/step - loss: 1.8141 - accuracy: 0.2488 - val_loss: 1.7903 - val_accuracy: 0.2654\n",
      "Epoch 4/20\n",
      "104/104 [==============================] - ETA: 0s - loss: 1.7910 - accuracy: 0.2700INFO:tensorflow:Assets written to: best_model.pth\\assets\n"
     ]
    },
    {
     "name": "stderr",
     "output_type": "stream",
     "text": [
      "INFO:tensorflow:Assets written to: best_model.pth\\assets\n"
     ]
    },
    {
     "name": "stdout",
     "output_type": "stream",
     "text": [
      "104/104 [==============================] - 6s 55ms/step - loss: 1.7910 - accuracy: 0.2700 - val_loss: 1.7632 - val_accuracy: 0.2817\n",
      "Epoch 5/20\n",
      "104/104 [==============================] - ETA: 0s - loss: 1.7590 - accuracy: 0.2973INFO:tensorflow:Assets written to: best_model.pth\\assets\n"
     ]
    },
    {
     "name": "stderr",
     "output_type": "stream",
     "text": [
      "INFO:tensorflow:Assets written to: best_model.pth\\assets\n"
     ]
    },
    {
     "name": "stdout",
     "output_type": "stream",
     "text": [
      "104/104 [==============================] - 7s 66ms/step - loss: 1.7590 - accuracy: 0.2973 - val_loss: 1.7239 - val_accuracy: 0.3279\n",
      "Epoch 6/20\n",
      "104/104 [==============================] - ETA: 0s - loss: 1.7334 - accuracy: 0.3117INFO:tensorflow:Assets written to: best_model.pth\\assets\n"
     ]
    },
    {
     "name": "stderr",
     "output_type": "stream",
     "text": [
      "INFO:tensorflow:Assets written to: best_model.pth\\assets\n"
     ]
    },
    {
     "name": "stdout",
     "output_type": "stream",
     "text": [
      "104/104 [==============================] - 5s 52ms/step - loss: 1.7334 - accuracy: 0.3117 - val_loss: 1.7075 - val_accuracy: 0.3442\n",
      "Epoch 7/20\n",
      "103/104 [============================>.] - ETA: 0s - loss: 1.7123 - accuracy: 0.3188INFO:tensorflow:Assets written to: best_model.pth\\assets\n"
     ]
    },
    {
     "name": "stderr",
     "output_type": "stream",
     "text": [
      "INFO:tensorflow:Assets written to: best_model.pth\\assets\n"
     ]
    },
    {
     "name": "stdout",
     "output_type": "stream",
     "text": [
      "104/104 [==============================] - 6s 54ms/step - loss: 1.7140 - accuracy: 0.3188 - val_loss: 1.6844 - val_accuracy: 0.3481\n",
      "Epoch 8/20\n",
      "103/104 [============================>.] - ETA: 0s - loss: 1.6836 - accuracy: 0.3241INFO:tensorflow:Assets written to: best_model.pth\\assets\n"
     ]
    },
    {
     "name": "stderr",
     "output_type": "stream",
     "text": [
      "INFO:tensorflow:Assets written to: best_model.pth\\assets\n"
     ]
    },
    {
     "name": "stdout",
     "output_type": "stream",
     "text": [
      "104/104 [==============================] - 5s 53ms/step - loss: 1.6818 - accuracy: 0.3250 - val_loss: 1.6410 - val_accuracy: 0.3587\n",
      "Epoch 9/20\n",
      "103/104 [============================>.] - ETA: 0s - loss: 1.6380 - accuracy: 0.3550INFO:tensorflow:Assets written to: best_model.pth\\assets\n"
     ]
    },
    {
     "name": "stderr",
     "output_type": "stream",
     "text": [
      "INFO:tensorflow:Assets written to: best_model.pth\\assets\n"
     ]
    },
    {
     "name": "stdout",
     "output_type": "stream",
     "text": [
      "104/104 [==============================] - 6s 62ms/step - loss: 1.6383 - accuracy: 0.3548 - val_loss: 1.6204 - val_accuracy: 0.3673\n",
      "Epoch 10/20\n",
      "104/104 [==============================] - ETA: 0s - loss: 1.5943 - accuracy: 0.3712INFO:tensorflow:Assets written to: best_model.pth\\assets\n"
     ]
    },
    {
     "name": "stderr",
     "output_type": "stream",
     "text": [
      "INFO:tensorflow:Assets written to: best_model.pth\\assets\n"
     ]
    },
    {
     "name": "stdout",
     "output_type": "stream",
     "text": [
      "104/104 [==============================] - 7s 67ms/step - loss: 1.5943 - accuracy: 0.3712 - val_loss: 1.5549 - val_accuracy: 0.3990\n",
      "Epoch 11/20\n",
      "104/104 [==============================] - ETA: 0s - loss: 1.5642 - accuracy: 0.3835INFO:tensorflow:Assets written to: best_model.pth\\assets\n"
     ]
    },
    {
     "name": "stderr",
     "output_type": "stream",
     "text": [
      "INFO:tensorflow:Assets written to: best_model.pth\\assets\n"
     ]
    },
    {
     "name": "stdout",
     "output_type": "stream",
     "text": [
      "104/104 [==============================] - 6s 62ms/step - loss: 1.5642 - accuracy: 0.3835 - val_loss: 1.5440 - val_accuracy: 0.4000\n",
      "Epoch 12/20\n",
      "103/104 [============================>.] - ETA: 0s - loss: 1.5343 - accuracy: 0.3913INFO:tensorflow:Assets written to: best_model.pth\\assets\n"
     ]
    },
    {
     "name": "stderr",
     "output_type": "stream",
     "text": [
      "INFO:tensorflow:Assets written to: best_model.pth\\assets\n"
     ]
    },
    {
     "name": "stdout",
     "output_type": "stream",
     "text": [
      "104/104 [==============================] - 6s 57ms/step - loss: 1.5348 - accuracy: 0.3900 - val_loss: 1.5593 - val_accuracy: 0.3827\n",
      "Epoch 13/20\n",
      "103/104 [============================>.] - ETA: 0s - loss: 1.5128 - accuracy: 0.3915INFO:tensorflow:Assets written to: best_model.pth\\assets\n"
     ]
    },
    {
     "name": "stderr",
     "output_type": "stream",
     "text": [
      "INFO:tensorflow:Assets written to: best_model.pth\\assets\n"
     ]
    },
    {
     "name": "stdout",
     "output_type": "stream",
     "text": [
      "104/104 [==============================] - 7s 64ms/step - loss: 1.5122 - accuracy: 0.3921 - val_loss: 1.5146 - val_accuracy: 0.4154\n",
      "Epoch 14/20\n",
      "103/104 [============================>.] - ETA: 0s - loss: 1.4942 - accuracy: 0.4031INFO:tensorflow:Assets written to: best_model.pth\\assets\n"
     ]
    },
    {
     "name": "stderr",
     "output_type": "stream",
     "text": [
      "INFO:tensorflow:Assets written to: best_model.pth\\assets\n"
     ]
    },
    {
     "name": "stdout",
     "output_type": "stream",
     "text": [
      "104/104 [==============================] - 5s 50ms/step - loss: 1.4936 - accuracy: 0.4027 - val_loss: 1.5158 - val_accuracy: 0.4010\n",
      "Epoch 15/20\n",
      "103/104 [============================>.] - ETA: 0s - loss: 1.4746 - accuracy: 0.4049INFO:tensorflow:Assets written to: best_model.pth\\assets\n"
     ]
    },
    {
     "name": "stderr",
     "output_type": "stream",
     "text": [
      "INFO:tensorflow:Assets written to: best_model.pth\\assets\n"
     ]
    },
    {
     "name": "stdout",
     "output_type": "stream",
     "text": [
      "104/104 [==============================] - 7s 63ms/step - loss: 1.4739 - accuracy: 0.4050 - val_loss: 1.4835 - val_accuracy: 0.4221\n",
      "Epoch 16/20\n",
      "103/104 [============================>.] - ETA: 0s - loss: 1.4514 - accuracy: 0.4221INFO:tensorflow:Assets written to: best_model.pth\\assets\n"
     ]
    },
    {
     "name": "stderr",
     "output_type": "stream",
     "text": [
      "INFO:tensorflow:Assets written to: best_model.pth\\assets\n"
     ]
    },
    {
     "name": "stdout",
     "output_type": "stream",
     "text": [
      "104/104 [==============================] - 7s 64ms/step - loss: 1.4494 - accuracy: 0.4227 - val_loss: 1.4869 - val_accuracy: 0.4250\n",
      "Epoch 17/20\n",
      "103/104 [============================>.] - ETA: 0s - loss: 1.4332 - accuracy: 0.4285INFO:tensorflow:Assets written to: best_model.pth\\assets\n"
     ]
    },
    {
     "name": "stderr",
     "output_type": "stream",
     "text": [
      "INFO:tensorflow:Assets written to: best_model.pth\\assets\n"
     ]
    },
    {
     "name": "stdout",
     "output_type": "stream",
     "text": [
      "104/104 [==============================] - 6s 56ms/step - loss: 1.4345 - accuracy: 0.4283 - val_loss: 1.4710 - val_accuracy: 0.4163\n",
      "Epoch 18/20\n",
      "104/104 [==============================] - ETA: 0s - loss: 1.4203 - accuracy: 0.4367INFO:tensorflow:Assets written to: best_model.pth\\assets\n"
     ]
    },
    {
     "name": "stderr",
     "output_type": "stream",
     "text": [
      "INFO:tensorflow:Assets written to: best_model.pth\\assets\n"
     ]
    },
    {
     "name": "stdout",
     "output_type": "stream",
     "text": [
      "104/104 [==============================] - 5s 50ms/step - loss: 1.4203 - accuracy: 0.4367 - val_loss: 1.4526 - val_accuracy: 0.4202\n",
      "Epoch 19/20\n",
      "102/104 [============================>.] - ETA: 0s - loss: 1.3940 - accuracy: 0.4559INFO:tensorflow:Assets written to: best_model.pth\\assets\n"
     ]
    },
    {
     "name": "stderr",
     "output_type": "stream",
     "text": [
      "INFO:tensorflow:Assets written to: best_model.pth\\assets\n"
     ]
    },
    {
     "name": "stdout",
     "output_type": "stream",
     "text": [
      "104/104 [==============================] - 6s 58ms/step - loss: 1.3936 - accuracy: 0.4562 - val_loss: 1.4445 - val_accuracy: 0.4250\n",
      "Epoch 20/20\n",
      "104/104 [==============================] - ETA: 0s - loss: 1.3763 - accuracy: 0.4590INFO:tensorflow:Assets written to: best_model.pth\\assets\n"
     ]
    },
    {
     "name": "stderr",
     "output_type": "stream",
     "text": [
      "INFO:tensorflow:Assets written to: best_model.pth\\assets\n"
     ]
    },
    {
     "name": "stdout",
     "output_type": "stream",
     "text": [
      "104/104 [==============================] - 6s 55ms/step - loss: 1.3763 - accuracy: 0.4590 - val_loss: 1.4313 - val_accuracy: 0.4452\n"
     ]
    }
   ],
   "source": [
    "num_classes = 7\n",
    "batch_size_gd = 50\n",
    "l2_lambda = 0.0001\n",
    "\n",
    "model = models.Sequential()\n",
    "\n",
    "# Convolutional Layer 1\n",
    "model.add(layers.Conv2D(32, (3, 3),\n",
    "                         activation='relu',\n",
    "                           input_shape=(img_width, img_width, 1)))\n",
    "# Max Pooling Layer 1\n",
    "model.add(layers.MaxPooling2D((2, 2)))\n",
    "\n",
    "# Convolutional Layer 2\n",
    "model.add(layers.Conv2D(64, (3, 3)\n",
    "                        , activation='relu'))\n",
    "\n",
    "# Max Pooling Layer 2\n",
    "model.add(layers.MaxPooling2D((2, 2)))\n",
    "\n",
    "# Convolutional Layer 3\n",
    "model.add(layers.Conv2D(64, (3, 3)\n",
    "                        , activation='relu'))\n",
    "\n",
    "# Max Pooling Layer 3\n",
    "model.add(layers.MaxPooling2D((2, 2)))\n",
    "model.add(layers.Dropout(0.5))\n",
    "\n",
    "\n",
    "# Flattening Layer\n",
    "model.add(layers.Flatten())\n",
    "\n",
    "# Fully Connected Layer 1 with L2 Regularization\n",
    "model.add(layers.Dense(64, activation='relu', kernel_regularizer=regularizers.l2(l2_lambda)))\n",
    "\n",
    "# Fully Connected Layer 2 with L2 Regularization\n",
    "model.add(layers.Dense(7, activation='relu', kernel_regularizer=regularizers.l2(l2_lambda)))\n",
    "\n",
    "# Output Layer\n",
    "model.add(layers.Dense(num_classes, activation='softmax'))\n",
    "\n",
    "#display model architecture\n",
    "model.summary()\n",
    "\n",
    "learning_rate = 0.0001\n",
    "\n",
    "# Compile the model\n",
    "model.compile(optimizer='adam', \n",
    "              loss='categorical_crossentropy', \n",
    "              metrics=['accuracy'])\n",
    "\n",
    "# Define the checkpoint callback\n",
    "checkpoint_callback = ModelCheckpoint(\n",
    "    filepath=r\"best_model.pth\",  # Corrected path\n",
    "    monitor = \"val_loss\",\n",
    "    verbose = 0,\n",
    "    save_best_only = False,\n",
    "    save_weights_only = False,\n",
    "    mode = \"auto\",\n",
    "    save_freq=\"epoch\",\n",
    "    options=None,\n",
    "    initial_value_threshold=None\n",
    ")\n",
    "\n",
    "# Train the model with L2 regularization\n",
    "history = model.fit(\n",
    "    x_train, t_train,\n",
    "    batch_size=batch_size_gd,\n",
    "    epochs=20,\n",
    "    validation_data=(x_test, t_test),\n",
    "    callbacks=[checkpoint_callback]  # Put the callback inside a list\n",
    ")"
   ]
  },
  {
   "cell_type": "code",
   "execution_count": 10,
   "metadata": {},
   "outputs": [
    {
     "data": {
      "image/png": "[encoded data removed]",
      "text/plain": [
       "<Figure size 640x480 with 1 Axes>"
      ]
     },
     "metadata": {},
     "output_type": "display_data"
    }
   ],
   "source": [
    "plt.plot(history.history['accuracy'], label='accuracy')\n",
    "plt.plot(history.history['val_accuracy'], label = 'val_accuracy')\n",
    "plt.title('CNN accuracy')\n",
    "plt.xlabel('Epoch')\n",
    "plt.ylabel('Accuracy')\n",
    "plt.ylim([0, 1])\n",
    "plt.legend(loc='lower right')\n",
    "plt.show()"
   ]
  },
  {
   "cell_type": "code",
   "execution_count": 11,
   "metadata": {},
   "outputs": [
    {
     "data": {
      "image/png": "[encoded data removed]",
      "text/plain": [
       "<Figure size 640x480 with 1 Axes>"
      ]
     },
     "metadata": {},
     "output_type": "display_data"
    }
   ],
   "source": [
    "plt.plot(history.history['loss'], label='loss')\n",
    "plt.plot(history.history['val_loss'], label = 'val_loss')\n",
    "plt.title('CNN cross-entropy Loss')\n",
    "plt.xlabel('Epoch')\n",
    "plt.ylabel('Loss')\n",
    "plt.legend(loc='lower right')\n",
    "plt.show()"
   ]
  },
  {
   "cell_type": "code",
   "execution_count": 33,
   "metadata": {},
   "outputs": [],
   "source": [
    "y_true_classes = [np.argmax(i) for i in test_labels]"
   ]
  },
  {
   "cell_type": "code",
   "execution_count": 34,
   "metadata": {},
   "outputs": [
    {
     "name": "stdout",
     "output_type": "stream",
     "text": [
      "33/33 [==============================] - 0s 8ms/step\n",
      "33/33 [==============================] - 0s 8ms/step - loss: 1.4313 - accuracy: 0.4452\n",
      "Test accuracy: 0.4451923072338104\n",
      "Test loss: 1.4312970638275146\n"
     ]
    },
    {
     "data": {
      "image/png": "[encoded data removed]",
      "text/plain": [
       "<Figure size 640x480 with 2 Axes>"
      ]
     },
     "metadata": {},
     "output_type": "display_data"
    }
   ],
   "source": [
    "# Load the best saved model\n",
    "best_model = load_model('best_model.pth')\n",
    "\n",
    "y_pred = best_model.predict(x_test)\n",
    "y_pred_classes = np.argmax(y_pred, axis=1)\n",
    "\n",
    "# Evaluate the best model on the test data\n",
    "test_loss, test_accuracy = best_model.evaluate(x_test, t_test)\n",
    "\n",
    "print(f\"Test accuracy: {test_accuracy}\")\n",
    "print(f\"Test loss: {test_loss}\")\n",
    "\n",
    "from sklearn.metrics import confusion_matrix, ConfusionMatrixDisplay\n",
    "# Calculate the confusion matrix\n",
    "conf_mat = confusion_matrix(y_true_classes, y_pred_classes)\n",
    "\n",
    "# Display the confusion matrix\n",
    "disp = ConfusionMatrixDisplay(conf_mat, display_labels=np.arange(num_classes))\n",
    "disp.plot(cmap='viridis', values_format='d')\n",
    "plt.title('Confusion Matrix')\n",
    "plt.show()"
   ]
  },
  {
   "cell_type": "code",
   "execution_count": 35,
   "metadata": {},
   "outputs": [
    {
     "name": "stdout",
     "output_type": "stream",
     "text": [
      "Class 0: Accuracy = 4.38%\n",
      "Class 1: Accuracy = 0.00%\n",
      "Class 2: Accuracy = 12.70%\n",
      "Class 3: Accuracy = 37.82%\n",
      "Class 4: Accuracy = 18.60%\n",
      "Class 5: Accuracy = 21.67%\n",
      "Class 6: Accuracy = 13.08%\n"
     ]
    }
   ],
   "source": [
    "class_accuracies = np.diag(conf_mat) / np.sum(conf_mat, axis=1)\n",
    "\n",
    "for i, accuracy in enumerate(class_accuracies):\n",
    "    print(f'Class {i}: Accuracy = {accuracy * 100:.2f}%')"
   ]
  },
  {
   "cell_type": "code",
   "execution_count": 36,
   "metadata": {},
   "outputs": [
    {
     "name": "stdout",
     "output_type": "stream",
     "text": [
      "Total Accuracy: 20.58%\n"
     ]
    }
   ],
   "source": [
    "total_accuracy = np.sum(np.diag(conf_mat)) / np.sum(conf_mat)\n",
    "\n",
    "print(f'Total Accuracy: {total_accuracy * 100:.2f}%')"
   ]
  },
  {
   "cell_type": "code",
   "execution_count": null,
   "metadata": {},
   "outputs": [],
   "source": []
  }
 ],
 "metadata": {
  "kernelspec": {
   "display_name": "Python 3",
   "language": "python",
   "name": "python3"
  },
  "language_info": {
   "codemirror_mode": {
    "name": "ipython",
    "version": 3
   },
   "file_extension": ".py",
   "mimetype": "text/x-python",
   "name": "python",
   "nbconvert_exporter": "python",
   "pygments_lexer": "ipython3",
   "version": "3.11.1"
  }
 },
 "nbformat": 4,
 "nbformat_minor": 2
}
