{
 "cells": [
  {
   "cell_type": "code",
   "execution_count": 1,
   "metadata": {},
   "outputs": [
    {
     "name": "stderr",
     "output_type": "stream",
     "text": [
      "/Users/carmen/opt/anaconda3/envs/pythonkurs/lib/python3.10/site-packages/scipy/__init__.py:155: UserWarning: A NumPy version >=1.18.5 and <1.25.0 is required for this version of SciPy (detected version 1.26.2\n",
      "  warnings.warn(f\"A NumPy version >={np_minversion} and <{np_maxversion}\"\n"
     ]
    }
   ],
   "source": [
    "# will change color points to non see through and change the distance between batch sizes to be equal\n",
    "# and smaller colorbar\n",
    "\n",
    "\n",
    "import numpy as np\n",
    "import pandas as pd\n",
    "import seaborn as sns\n",
    "import matplotlib.pyplot as plt\n",
    "import matplotlib as mpl\n",
    "from mpl_toolkits.mplot3d import Axes3D\n",
    "\n",
    "\n",
    "data = np.load(\"gridsearch_score_data/CNN_score_accuracy.npy\")\n",
    "# parameters (in order as below): learning rate, regularization parameter, batch size, accuracy\n",
    "eta = np.log10(data[:,0])\n",
    "lmb = np.log10(data[:,1])\n",
    "batch_size = data[:,2]\n",
    "accuracy = data[:,3]\n",
    "\n",
    "# getting examined paramter values for axis ticks\n",
    "eta_val = set(eta)\n",
    "lmb_val = set(lmb)\n",
    "batch_val = set(batch_size)\n",
    "eta_val = np.array(list(eta_val))\n",
    "lmb_val = np.array(list(lmb_val))\n",
    "batch_val = np.array(list(batch_val))\n",
    "\n",
    "\n",
    "#sns.set_style(\"whitegrid\", {'axes.grid' : False})\n",
    "#sns.set_theme(style=\"white\")\n",
    "\n",
    "fig = plt.figure(figsize=(10, 8))\n",
    "ax = fig.add_subplot(111, projection='3d')\n",
    "scatter = ax.scatter(eta, lmb, batch_size, c=accuracy, s=50, cmap='RdBu')\n",
    "ax.set_title(\"CNN accuracy\")\n",
    "ax.set_xlabel(r\"learning rate, $\\log(\\eta)$\")\n",
    "ax.set_ylabel(r\"regularization parameter, $\\log(\\lambda)$\")\n",
    "ax.set_zlabel(\"batch size\")\n",
    "ax.xaxis.set_ticks(eta_val)\n",
    "ax.yaxis.set_ticks(lmb_val)\n",
    "ax.zaxis.set_ticks(batch_val)\n",
    "\n",
    "\n",
    "#colorbar\n",
    "[vmin, vmax] = [accuracy.min(), accuracy.max()]\n",
    "cbar = fig.colorbar(mpl.cm.ScalarMappable(norm=mpl.colors.Normalize(vmin=vmin, vmax=vmax), cmap='RdBu'),\n",
    "            ax=ax, orientation='vertical', label='accuracy')\n",
    "cbar.ax.tick_params(labelsize=12)\n",
    "\n",
    "#lines\n",
    "for i,j,k,h in zip(eta, lmb, batch_size, accuracy):\n",
    "    ax.plot([i,i],[j,j],[k,h], color=\"#bcbcbc\")\n",
    "\n",
    "# save figure\n",
    "plt.savefig(\"gridsearch_accuracy\")\n",
    "plt.close()\n",
    "\n",
    "\n",
    "\n",
    "#duplicate for loss\n",
    "\n"
   ]
  }
 ],
 "metadata": {
  "kernelspec": {
   "display_name": "Python 3",
   "language": "python",
   "name": "python3"
  },
  "language_info": {
   "codemirror_mode": {
    "name": "ipython",
    "version": 3
   },
   "file_extension": ".py",
   "mimetype": "text/x-python",
   "name": "python",
   "nbconvert_exporter": "python",
   "pygments_lexer": "ipython3",
   "version": "3.10.4"
  }
 },
 "nbformat": 4,
 "nbformat_minor": 2
}
